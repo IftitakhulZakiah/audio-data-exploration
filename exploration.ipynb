{
 "cells": [
  {
   "cell_type": "code",
   "execution_count": 1,
   "metadata": {},
   "outputs": [
    {
     "data": {
      "text/html": [
       "        <script type=\"text/javascript\">\n",
       "        window.PlotlyConfig = {MathJaxConfig: 'local'};\n",
       "        if (window.MathJax) {MathJax.Hub.Config({SVG: {font: \"STIX-Web\"}});}\n",
       "        if (typeof require !== 'undefined') {\n",
       "        require.undef(\"plotly\");\n",
       "        requirejs.config({\n",
       "            paths: {\n",
       "                'plotly': ['https://cdn.plot.ly/plotly-latest.min']\n",
       "            }\n",
       "        });\n",
       "        require(['plotly'], function(Plotly) {\n",
       "            window._Plotly = Plotly;\n",
       "        });\n",
       "        }\n",
       "        </script>\n",
       "        "
      ]
     },
     "metadata": {},
     "output_type": "display_data"
    }
   ],
   "source": [
    "import os\n",
    "from os.path import isdir, join\n",
    "from pathlib import Path\n",
    "import pandas as pd\n",
    "\n",
    "# Math\n",
    "import numpy as np\n",
    "from scipy.fftpack import fft\n",
    "from scipy import signal\n",
    "from scipy.io import wavfile\n",
    "import librosa\n",
    "\n",
    "from sklearn.decomposition import PCA\n",
    "\n",
    "# Visualization\n",
    "import matplotlib.pyplot as plt\n",
    "import seaborn as sns\n",
    "import IPython.display as ipd\n",
    "import librosa.display\n",
    "\n",
    "import plotly.offline as py\n",
    "py.init_notebook_mode(connected=True)\n",
    "import plotly.graph_objs as go\n",
    "import plotly.tools as tls\n",
    "import pandas as pd\n",
    "\n",
    "%matplotlib inline"
   ]
  },
  {
   "cell_type": "code",
   "execution_count": 2,
   "metadata": {},
   "outputs": [
    {
     "name": "stdout",
     "output_type": "stream",
     "text": [
      "Number of speakers: 20\n"
     ]
    }
   ],
   "source": [
    "train_audio_path=\"20sp_lecture\"\n",
    "\n",
    "dirs = [f for f in os.listdir(train_audio_path) if isdir(join(train_audio_path, f))]\n",
    "dirs.sort()\n",
    "dirs.remove('transcript')\n",
    "print('Number of speakers: ' + str(len(dirs)))"
   ]
  },
  {
   "cell_type": "code",
   "execution_count": 3,
   "metadata": {},
   "outputs": [
    {
     "name": "stdout",
     "output_type": "stream",
     "text": [
      "[83, 328, 216, 158, 131, 161, 148, 97, 224, 164, 153, 216, 162, 76, 48, 87, 95, 87, 159, 206]\n"
     ]
    }
   ],
   "source": [
    "# Calculate\n",
    "number_of_recordings = []\n",
    "for direct in dirs:\n",
    "    waves = [f for f in os.listdir(join(train_audio_path, direct)) if f.endswith('.wav')]\n",
    "    number_of_recordings.append(len(waves))\n",
    "print(number_of_recordings)"
   ]
  },
  {
   "cell_type": "code",
   "execution_count": 4,
   "metadata": {},
   "outputs": [
    {
     "data": {
      "application/vnd.plotly.v1+json": {
       "config": {
        "linkText": "Export to plot.ly",
        "plotlyServerURL": "https://plot.ly",
        "showLink": false
       },
       "data": [
        {
         "marker": {
          "color": [
           83,
           328,
           216,
           158,
           131,
           161,
           148,
           97,
           224,
           164,
           153,
           216,
           162,
           76,
           48,
           87,
           95,
           87,
           159,
           206
          ],
          "showscale": true
         },
         "type": "bar",
         "uid": "59a7cb76-122e-4083-b5a2-50226997059d",
         "x": [
          "f01",
          "f02",
          "f03",
          "f04",
          "f05",
          "f06",
          "f07",
          "f08",
          "f09",
          "m01",
          "m02",
          "m03",
          "m04",
          "m05",
          "m06",
          "m07",
          "m08",
          "m09",
          "m10",
          "m11"
         ],
         "y": [
          83,
          328,
          216,
          158,
          131,
          161,
          148,
          97,
          224,
          164,
          153,
          216,
          162,
          76,
          48,
          87,
          95,
          87,
          159,
          206
         ]
        }
       ],
       "layout": {
        "title": {
         "text": "Number of recordings in given label"
        },
        "xaxis": {
         "title": {
          "text": "Speakers"
         }
        },
        "yaxis": {
         "title": {
          "text": "Number of recordings"
         }
        }
       }
      },
      "text/html": [
       "<div>\n",
       "        \n",
       "        \n",
       "            <div id=\"06357da0-c45e-433c-ab06-c9527eb11b5a\" class=\"plotly-graph-div\" style=\"height:525px; width:100%;\"></div>\n",
       "            <script type=\"text/javascript\">\n",
       "                require([\"plotly\"], function(Plotly) {\n",
       "                    window.PLOTLYENV=window.PLOTLYENV || {};\n",
       "                    window.PLOTLYENV.BASE_URL='https://plot.ly';\n",
       "                    \n",
       "                if (document.getElementById(\"06357da0-c45e-433c-ab06-c9527eb11b5a\")) {\n",
       "                    Plotly.newPlot(\n",
       "                        '06357da0-c45e-433c-ab06-c9527eb11b5a',\n",
       "                        [{\"marker\": {\"color\": [83, 328, 216, 158, 131, 161, 148, 97, 224, 164, 153, 216, 162, 76, 48, 87, 95, 87, 159, 206], \"showscale\": true}, \"type\": \"bar\", \"uid\": \"59a7cb76-122e-4083-b5a2-50226997059d\", \"x\": [\"f01\", \"f02\", \"f03\", \"f04\", \"f05\", \"f06\", \"f07\", \"f08\", \"f09\", \"m01\", \"m02\", \"m03\", \"m04\", \"m05\", \"m06\", \"m07\", \"m08\", \"m09\", \"m10\", \"m11\"], \"y\": [83, 328, 216, 158, 131, 161, 148, 97, 224, 164, 153, 216, 162, 76, 48, 87, 95, 87, 159, 206]}],\n",
       "                        {\"title\": {\"text\": \"Number of recordings in given label\"}, \"xaxis\": {\"title\": {\"text\": \"Speakers\"}}, \"yaxis\": {\"title\": {\"text\": \"Number of recordings\"}}},\n",
       "                        {\"showLink\": false, \"linkText\": \"Export to plot.ly\", \"plotlyServerURL\": \"https://plot.ly\", \"responsive\": true}\n",
       "                    ).then(function(){\n",
       "                            \n",
       "var gd = document.getElementById('06357da0-c45e-433c-ab06-c9527eb11b5a');\n",
       "var x = new MutationObserver(function (mutations, observer) {{\n",
       "        var display = window.getComputedStyle(gd).display;\n",
       "        if (!display || display === 'none') {{\n",
       "            console.log([gd, 'removed!']);\n",
       "            Plotly.purge(gd);\n",
       "            observer.disconnect();\n",
       "        }}\n",
       "}});\n",
       "\n",
       "// Listen for the removal of the full notebook cells\n",
       "var notebookContainer = gd.closest('#notebook-container');\n",
       "if (notebookContainer) {{\n",
       "    x.observe(notebookContainer, {childList: true});\n",
       "}}\n",
       "\n",
       "// Listen for the clearing of the current output cell\n",
       "var outputEl = gd.closest('.output');\n",
       "if (outputEl) {{\n",
       "    x.observe(outputEl, {childList: true});\n",
       "}}\n",
       "\n",
       "                        })\n",
       "                };\n",
       "                });\n",
       "            </script>\n",
       "        </div>"
      ]
     },
     "metadata": {},
     "output_type": "display_data"
    }
   ],
   "source": [
    "# Plot\n",
    "data = [go.Histogram(x=dirs, y=number_of_recordings)]\n",
    "trace = go.Bar(\n",
    "    x=dirs,\n",
    "    y=number_of_recordings,\n",
    "    marker=dict(color = number_of_recordings, showscale=True\n",
    "    ),\n",
    ")\n",
    "layout = go.Layout(\n",
    "    title='Number of recordings in given label',\n",
    "    xaxis = dict(title='Speakers'),\n",
    "    yaxis = dict(title='Number of recordings')\n",
    ")\n",
    "py.iplot(go.Figure(data=[trace], layout=layout))"
   ]
  },
  {
   "cell_type": "code",
   "execution_count": 5,
   "metadata": {},
   "outputs": [
    {
     "name": "stderr",
     "output_type": "stream",
     "text": [
      "c:\\users\\iftitakhul\\appdata\\local\\programs\\python\\python37-32\\lib\\site-packages\\scipy\\io\\wavfile.py:273: WavFileWarning:\n",
      "\n",
      "Chunk (non-data) not understood, skipping it.\n",
      "\n"
     ]
    },
    {
     "name": "stdout",
     "output_type": "stream",
     "text": [
      "Number of recordings shorter than 1 second: 83\n"
     ]
    }
   ],
   "source": [
    "num_of_shorter = 0\n",
    "for direct in dirs:\n",
    "    waves = [f for f in os.listdir(join(train_audio_path, direct)) if f.endswith('.wav')]\n",
    "    for wav in waves:\n",
    "        sample_rate, samples = wavfile.read(train_audio_path + '/' + direct + '/' + wav)\n",
    "        if samples.shape[0] < sample_rate:\n",
    "            num_of_shorter += 1\n",
    "print('Number of recordings shorter than 1 second: ' + str(num_of_shorter))"
   ]
  },
  {
   "cell_type": "code",
   "execution_count": 6,
   "metadata": {},
   "outputs": [],
   "source": [
    "def custom_fft(y, fs):\n",
    "    T = 1.0 / fs\n",
    "    N = y.shape[0]\n",
    "    yf = fft(y)\n",
    "    xf = np.linspace(0.0, 1.0/(2.0*T), N//2)\n",
    "    vals = 2.0/N * np.abs(yf[0:N//2])  # FFT is simmetrical, so we take just the first half\n",
    "    # FFT is also complex, to we take just the real part (abs)\n",
    "    return xf, vals"
   ]
  },
  {
   "cell_type": "code",
   "execution_count": null,
   "metadata": {},
   "outputs": [],
   "source": [
    "fft_all = []\n",
    "names = []\n",
    "for direct in dirs:\n",
    "    waves = [f for f in os.listdir(join(train_audio_path, direct)) if f.endswith('.wav')]\n",
    "    for wav in waves:\n",
    "        sample_rate, samples = wavfile.read(train_audio_path + '/' + direct + '/' + wav)\n",
    "        if samples.shape[0] != sample_rate:\n",
    "            samples = np.append(samples, np.zeros(abs(sample_rate - samples.shape[0], )))\n",
    "        x, val = custom_fft(samples, sample_rate)\n",
    "        fft_all.append(val)\n",
    "        names.append(direct + '/' + wav)\n",
    "\n",
    "fft_all = np.array(fft_all)\n"
   ]
  },
  {
   "cell_type": "code",
   "execution_count": null,
   "metadata": {},
   "outputs": [],
   "source": [
    "fft_all"
   ]
  },
  {
   "cell_type": "code",
   "execution_count": null,
   "metadata": {},
   "outputs": [],
   "source": [
    "# Normalization\n",
    "fft_all = (fft_all - np.mean(fft_all, axis=0)) / np.std(fft_all, axis=0)\n",
    "\n",
    "# Dim reduction\n",
    "pca = PCA(n_components=3)\n",
    "fft_all = pca.fit_transform(fft_all)\n",
    "\n",
    "def interactive_3d_plot(data, names):\n",
    "    scatt = go.Scatter3d(x=data[:, 0], y=data[:, 1], z=data[:, 2], mode='markers', text=names)\n",
    "    data = go.Data([scatt])\n",
    "    layout = go.Layout(title=\"Anomaly detection\")\n",
    "    figure = go.Figure(data=data, layout=layout)\n",
    "    py.iplot(figure)\n",
    "    \n",
    "interactive_3d_plot(fft_all, names)"
   ]
  },
  {
   "cell_type": "code",
   "execution_count": null,
   "metadata": {},
   "outputs": [],
   "source": []
  }
 ],
 "metadata": {
  "kernelspec": {
   "display_name": "Python 3",
   "language": "python",
   "name": "python3"
  },
  "language_info": {
   "codemirror_mode": {
    "name": "ipython",
    "version": 3
   },
   "file_extension": ".py",
   "mimetype": "text/x-python",
   "name": "python",
   "nbconvert_exporter": "python",
   "pygments_lexer": "ipython3",
   "version": "3.7.3"
  }
 },
 "nbformat": 4,
 "nbformat_minor": 2
}
